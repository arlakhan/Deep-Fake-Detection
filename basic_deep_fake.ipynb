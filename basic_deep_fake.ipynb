{
  "nbformat": 4,
  "nbformat_minor": 0,
  "metadata": {
    "colab": {
      "provenance": [],
      "authorship_tag": "ABX9TyOvZCYxR8thYA/H1sBaS1qM",
      "include_colab_link": true
    },
    "kernelspec": {
      "name": "python3",
      "display_name": "Python 3"
    },
    "language_info": {
      "name": "python"
    }
  },
  "cells": [
    {
      "cell_type": "markdown",
      "metadata": {
        "id": "view-in-github",
        "colab_type": "text"
      },
      "source": [
        "<a href=\"https://colab.research.google.com/github/arlakhan/Deep-Fake-Detection/blob/main/basic_deep_fake.ipynb\" target=\"_parent\"><img src=\"https://colab.research.google.com/assets/colab-badge.svg\" alt=\"Open In Colab\"/></a>"
      ]
    },
    {
      "cell_type": "code",
      "execution_count": null,
      "metadata": {
        "colab": {
          "base_uri": "https://localhost:8080/"
        },
        "id": "IodOiAivImvH",
        "outputId": "ff1ea228-735e-4466-fed1-fb14809aee79"
      },
      "outputs": [
        {
          "output_type": "stream",
          "name": "stdout",
          "text": [
            "Epoch 1/15\n",
            "\u001b[1m6/6\u001b[0m \u001b[32m━━━━━━━━━━━━━━━━━━━━\u001b[0m\u001b[37m\u001b[0m \u001b[1m10s\u001b[0m 1s/step - accuracy: 0.5286 - loss: 0.8198 - val_accuracy: 0.7111 - val_loss: 0.5966\n",
            "Epoch 2/15\n",
            "\u001b[1m6/6\u001b[0m \u001b[32m━━━━━━━━━━━━━━━━━━━━\u001b[0m\u001b[37m\u001b[0m \u001b[1m6s\u001b[0m 1s/step - accuracy: 0.6028 - loss: 0.6931 - val_accuracy: 0.7111 - val_loss: 0.6267\n",
            "Epoch 3/15\n",
            "\u001b[1m6/6\u001b[0m \u001b[32m━━━━━━━━━━━━━━━━━━━━\u001b[0m\u001b[37m\u001b[0m \u001b[1m8s\u001b[0m 1s/step - accuracy: 0.6647 - loss: 0.6596 - val_accuracy: 0.7111 - val_loss: 0.6029\n",
            "Epoch 4/15\n",
            "\u001b[1m6/6\u001b[0m \u001b[32m━━━━━━━━━━━━━━━━━━━━\u001b[0m\u001b[37m\u001b[0m \u001b[1m9s\u001b[0m 1s/step - accuracy: 0.6157 - loss: 0.6769 - val_accuracy: 0.7111 - val_loss: 0.6519\n",
            "Epoch 5/15\n",
            "\u001b[1m6/6\u001b[0m \u001b[32m━━━━━━━━━━━━━━━━━━━━\u001b[0m\u001b[37m\u001b[0m \u001b[1m10s\u001b[0m 1s/step - accuracy: 0.6647 - loss: 0.6454 - val_accuracy: 0.7111 - val_loss: 0.6180\n",
            "Epoch 6/15\n",
            "\u001b[1m6/6\u001b[0m \u001b[32m━━━━━━━━━━━━━━━━━━━━\u001b[0m\u001b[37m\u001b[0m \u001b[1m7s\u001b[0m 1s/step - accuracy: 0.6600 - loss: 0.6295 - val_accuracy: 0.7111 - val_loss: 0.6259\n",
            "Epoch 7/15\n",
            "\u001b[1m6/6\u001b[0m \u001b[32m━━━━━━━━━━━━━━━━━━━━\u001b[0m\u001b[37m\u001b[0m \u001b[1m6s\u001b[0m 1s/step - accuracy: 0.6955 - loss: 0.6131 - val_accuracy: 0.7111 - val_loss: 0.6309\n",
            "Epoch 8/15\n",
            "\u001b[1m6/6\u001b[0m \u001b[32m━━━━━━━━━━━━━━━━━━━━\u001b[0m\u001b[37m\u001b[0m \u001b[1m8s\u001b[0m 1s/step - accuracy: 0.6456 - loss: 0.6336 - val_accuracy: 0.7111 - val_loss: 0.6566\n",
            "Epoch 9/15\n",
            "\u001b[1m6/6\u001b[0m \u001b[32m━━━━━━━━━━━━━━━━━━━━\u001b[0m\u001b[37m\u001b[0m \u001b[1m6s\u001b[0m 1s/step - accuracy: 0.6011 - loss: 0.6522 - val_accuracy: 0.7111 - val_loss: 0.6415\n",
            "Epoch 10/15\n",
            "\u001b[1m6/6\u001b[0m \u001b[32m━━━━━━━━━━━━━━━━━━━━\u001b[0m\u001b[37m\u001b[0m \u001b[1m7s\u001b[0m 1s/step - accuracy: 0.6795 - loss: 0.6169 - val_accuracy: 0.7111 - val_loss: 0.6556\n",
            "Epoch 11/15\n",
            "\u001b[1m6/6\u001b[0m \u001b[32m━━━━━━━━━━━━━━━━━━━━\u001b[0m\u001b[37m\u001b[0m \u001b[1m6s\u001b[0m 1s/step - accuracy: 0.6277 - loss: 0.6480 - val_accuracy: 0.7111 - val_loss: 0.6448\n",
            "Epoch 12/15\n",
            "\u001b[1m6/6\u001b[0m \u001b[32m━━━━━━━━━━━━━━━━━━━━\u001b[0m\u001b[37m\u001b[0m \u001b[1m8s\u001b[0m 1s/step - accuracy: 0.6067 - loss: 0.6292 - val_accuracy: 0.7111 - val_loss: 0.6092\n",
            "Epoch 13/15\n",
            "\u001b[1m6/6\u001b[0m \u001b[32m━━━━━━━━━━━━━━━━━━━━\u001b[0m\u001b[37m\u001b[0m \u001b[1m6s\u001b[0m 1s/step - accuracy: 0.6292 - loss: 0.6276 - val_accuracy: 0.7111 - val_loss: 0.6704\n",
            "Epoch 14/15\n",
            "\u001b[1m6/6\u001b[0m \u001b[32m━━━━━━━━━━━━━━━━━━━━\u001b[0m\u001b[37m\u001b[0m \u001b[1m10s\u001b[0m 1s/step - accuracy: 0.6290 - loss: 0.6070 - val_accuracy: 0.8000 - val_loss: 0.6506\n",
            "Epoch 15/15\n",
            "\u001b[1m6/6\u001b[0m \u001b[32m━━━━━━━━━━━━━━━━━━━━\u001b[0m\u001b[37m\u001b[0m \u001b[1m8s\u001b[0m 1s/step - accuracy: 0.6223 - loss: 0.6250 - val_accuracy: 0.7778 - val_loss: 0.6425\n"
          ]
        },
        {
          "output_type": "stream",
          "name": "stderr",
          "text": [
            "WARNING:absl:You are saving your model as an HDF5 file via `model.save()` or `keras.saving.save_model(model)`. This file format is considered legacy. We recommend using instead the native Keras format, e.g. `model.save('my_model.keras')` or `keras.saving.save_model(model, 'my_model.keras')`. \n",
            "WARNING:tensorflow:5 out of the last 5 calls to <function TensorFlowTrainer.make_predict_function.<locals>.one_step_on_data_distributed at 0x7d37a1d9a700> triggered tf.function retracing. Tracing is expensive and the excessive number of tracings could be due to (1) creating @tf.function repeatedly in a loop, (2) passing tensors with different shapes, (3) passing Python objects instead of tensors. For (1), please define your @tf.function outside of the loop. For (2), @tf.function has reduce_retracing=True option that can avoid unnecessary retracing. For (3), please refer to https://www.tensorflow.org/guide/function#controlling_retracing and https://www.tensorflow.org/api_docs/python/tf/function for  more details.\n"
          ]
        },
        {
          "output_type": "stream",
          "name": "stdout",
          "text": [
            "Attempting to read: real_0.jpg\n",
            "\u001b[1m1/1\u001b[0m \u001b[32m━━━━━━━━━━━━━━━━━━━━\u001b[0m\u001b[37m\u001b[0m \u001b[1m0s\u001b[0m 115ms/step\n",
            "The image is classified as: Fake\n"
          ]
        }
      ],
      "source": [
        "import tensorflow as tf\n",
        "from tensorflow import keras\n",
        "from tensorflow.keras import layers\n",
        "import numpy as np\n",
        "import cv2\n",
        "import os\n",
        "from sklearn.model_selection import train_test_split\n",
        "from tensorflow.keras.preprocessing.image import ImageDataGenerator\n",
        "\n",
        "# Define dataset paths\n",
        "real_images_path = \"Dataset/real\"\n",
        "fake_images_path = \"Dataset/fake\"\n",
        "img_size = (128, 128)\n",
        "\n",
        "def load_images_from_folder(folder, label):\n",
        "    images = []\n",
        "    labels = []\n",
        "    for filename in os.listdir(folder):\n",
        "        img_path = os.path.join(folder, filename)\n",
        "        img = cv2.imread(img_path)\n",
        "        if img is not None:\n",
        "            img = cv2.resize(img, img_size)\n",
        "            images.append(img)\n",
        "            labels.append(label)\n",
        "        else:\n",
        "            print(f\"Warning: Unable to read {img_path}\")\n",
        "    return images, labels\n",
        "\n",
        "# Load data\n",
        "real_images, real_labels = load_images_from_folder(real_images_path, 0)\n",
        "fake_images, fake_labels = load_images_from_folder(fake_images_path, 1)\n",
        "\n",
        "# Check if data is loaded correctly\n",
        "if not real_images or not fake_images:\n",
        "    raise ValueError(\"Error: One or both datasets are empty. Check dataset paths and image files.\")\n",
        "\n",
        "# Combine and preprocess data\n",
        "X = np.array(real_images + fake_images) / 255.0\n",
        "Y = np.array(real_labels + fake_labels)\n",
        "\n",
        "X_train, X_test, Y_train, Y_test = train_test_split(X, Y, test_size=0.2, random_state=42)\n",
        "\n",
        "# Data augmentation\n",
        "datagen = ImageDataGenerator(\n",
        "    rotation_range=20,\n",
        "    width_shift_range=0.2,\n",
        "    height_shift_range=0.2,\n",
        "    horizontal_flip=True\n",
        ")\n",
        "\n",
        "datagen.fit(X_train)\n",
        "\n",
        "# Define CNN model\n",
        "model = keras.Sequential([\n",
        "    layers.Conv2D(32, (3, 3), activation='relu', input_shape=(128, 128, 3)),\n",
        "    layers.MaxPooling2D((2, 2)),\n",
        "    layers.Conv2D(64, (3, 3), activation='relu'),\n",
        "    layers.MaxPooling2D((2, 2)),\n",
        "    layers.Conv2D(128, (3, 3), activation='relu'),\n",
        "    layers.MaxPooling2D((2, 2)),\n",
        "    layers.Flatten(),\n",
        "    layers.Dense(128, activation='relu'),\n",
        "    layers.Dropout(0.5),\n",
        "    layers.Dense(1, activation='sigmoid')\n",
        "])\n",
        "\n",
        "# Compile model\n",
        "model.compile(optimizer='adam', loss='binary_crossentropy', metrics=['accuracy'])\n",
        "\n",
        "# Train model\n",
        "model.fit(datagen.flow(X_train, Y_train, batch_size=32), epochs=15, validation_data=(X_test, Y_test))\n",
        "\n",
        "# Save trained model\n",
        "model.save(\"deepfake_detection_model.h5\")\n",
        "\n",
        "# Function to classify a new image\n",
        "def classify_image(image_path):\n",
        "    print(f\"Attempting to read: {image_path}\")\n",
        "    img = cv2.imread(image_path)\n",
        "    if img is None:\n",
        "        raise ValueError(f\"Error: Unable to read the image at {image_path}. Check if the file exists and is accessible.\")\n",
        "\n",
        "    img = cv2.resize(img, img_size)\n",
        "    img = np.expand_dims(img, axis=0) / 255.0\n",
        "    prediction = model.predict(img)[0][0]\n",
        "    return \"Fake\" if prediction > 0.5 else \"Real\"\n",
        "\n",
        "# Example usage\n",
        "image_to_test = \"real_0.jpg\"\n",
        "try:\n",
        "    result = classify_image(image_to_test)\n",
        "    print(f\"The image is classified as: {result}\")\n",
        "except ValueError as e:\n",
        "    print(e)"
      ]
    },
    {
      "cell_type": "code",
      "source": [
        "import tensorflow as tf\n",
        "from tensorflow import keras\n",
        "from tensorflow.keras import layers\n",
        "import numpy as np\n",
        "import cv2\n",
        "import os\n",
        "from sklearn.model_selection import train_test_split\n",
        "from tensorflow.keras.preprocessing.image import ImageDataGenerator\n",
        "\n",
        "# Define dataset paths\n",
        "real_images_path = \"Dataset/real\"\n",
        "fake_images_path = \"Dataset/fake\"\n",
        "img_size = (128, 128)\n",
        "\n",
        "def load_images_from_folder(folder, label):\n",
        "    images = []\n",
        "    labels = []\n",
        "    for filename in os.listdir(folder):\n",
        "        img_path = os.path.join(folder, filename)\n",
        "        img = cv2.imread(img_path)\n",
        "        if img is not None:\n",
        "            img = cv2.resize(img, img_size)\n",
        "            images.append(img)\n",
        "            labels.append(label)\n",
        "        else:\n",
        "            print(f\"Warning: Unable to read {img_path}\")\n",
        "    return images, labels\n",
        "\n",
        "# Load data\n",
        "real_images, real_labels = load_images_from_folder(real_images_path, 0)\n",
        "fake_images, fake_labels = load_images_from_folder(fake_images_path, 1)\n",
        "\n",
        "# Check if data is loaded correctly\n",
        "if not real_images or not fake_images:\n",
        "    raise ValueError(\"Error: One or both datasets are empty. Check dataset paths and image files.\")\n",
        "\n",
        "# Combine and preprocess data\n",
        "X = np.array(real_images + fake_images) / 255.0\n",
        "Y = np.array(real_labels + fake_labels)\n",
        "\n",
        "X_train, X_test, Y_train, Y_test = train_test_split(X, Y, test_size=0.2, random_state=42)\n",
        "\n",
        "# Data augmentation\n",
        "datagen = ImageDataGenerator(\n",
        "    rotation_range=20,\n",
        "    width_shift_range=0.2,\n",
        "    height_shift_range=0.2,\n",
        "    horizontal_flip=True\n",
        ")\n",
        "\n",
        "datagen.fit(X_train)\n",
        "\n",
        "# Define CNN model\n",
        "model = keras.Sequential([\n",
        "    layers.Conv2D(32, (3, 3), activation='relu', input_shape=(128, 128, 3)),\n",
        "    layers.MaxPooling2D((2, 2)),\n",
        "    layers.Conv2D(64, (3, 3), activation='relu'),\n",
        "    layers.MaxPooling2D((2, 2)),\n",
        "    layers.Conv2D(128, (3, 3), activation='relu'),\n",
        "    layers.MaxPooling2D((2, 2)),\n",
        "    layers.Flatten(),\n",
        "    layers.Dense(128, activation='relu'),\n",
        "    layers.Dropout(0.5),\n",
        "    layers.Dense(1, activation='sigmoid')\n",
        "])\n",
        "\n",
        "# Compile model\n",
        "model.compile(optimizer='adam', loss='binary_crossentropy', metrics=['accuracy'])\n",
        "\n",
        "# Train model\n",
        "model.fit(datagen.flow(X_train, Y_train, batch_size=32), epochs=15, validation_data=(X_test, Y_test))\n",
        "\n",
        "# Save trained model\n",
        "model.save(\"deepfake_detection_model.h5\")\n"
      ],
      "metadata": {
        "colab": {
          "base_uri": "https://localhost:8080/"
        },
        "id": "o_vkQ668Q-y2",
        "outputId": "0d286535-1cdf-4555-c541-a2117e4d4581"
      },
      "execution_count": null,
      "outputs": [
        {
          "output_type": "stream",
          "name": "stderr",
          "text": [
            "/usr/local/lib/python3.11/dist-packages/keras/src/layers/convolutional/base_conv.py:107: UserWarning: Do not pass an `input_shape`/`input_dim` argument to a layer. When using Sequential models, prefer using an `Input(shape)` object as the first layer in the model instead.\n",
            "  super().__init__(activity_regularizer=activity_regularizer, **kwargs)\n",
            "/usr/local/lib/python3.11/dist-packages/keras/src/trainers/data_adapters/py_dataset_adapter.py:121: UserWarning: Your `PyDataset` class should call `super().__init__(**kwargs)` in its constructor. `**kwargs` can include `workers`, `use_multiprocessing`, `max_queue_size`. Do not pass these arguments to `fit()`, as they will be ignored.\n",
            "  self._warn_if_super_not_called()\n"
          ]
        },
        {
          "output_type": "stream",
          "name": "stdout",
          "text": [
            "Epoch 1/15\n",
            "\u001b[1m4/4\u001b[0m \u001b[32m━━━━━━━━━━━━━━━━━━━━\u001b[0m\u001b[37m\u001b[0m \u001b[1m7s\u001b[0m 2s/step - accuracy: 0.5740 - loss: 0.8646 - val_accuracy: 0.6400 - val_loss: 0.6619\n",
            "Epoch 2/15\n",
            "\u001b[1m4/4\u001b[0m \u001b[32m━━━━━━━━━━━━━━━━━━━━\u001b[0m\u001b[37m\u001b[0m \u001b[1m3s\u001b[0m 744ms/step - accuracy: 0.4447 - loss: 0.7650 - val_accuracy: 0.6800 - val_loss: 0.6898\n",
            "Epoch 3/15\n",
            "\u001b[1m4/4\u001b[0m \u001b[32m━━━━━━━━━━━━━━━━━━━━\u001b[0m\u001b[37m\u001b[0m \u001b[1m3s\u001b[0m 732ms/step - accuracy: 0.5243 - loss: 0.6850 - val_accuracy: 0.6400 - val_loss: 0.6586\n",
            "Epoch 4/15\n",
            "\u001b[1m4/4\u001b[0m \u001b[32m━━━━━━━━━━━━━━━━━━━━\u001b[0m\u001b[37m\u001b[0m \u001b[1m4s\u001b[0m 1s/step - accuracy: 0.6350 - loss: 0.6938 - val_accuracy: 0.6400 - val_loss: 0.6527\n",
            "Epoch 5/15\n",
            "\u001b[1m4/4\u001b[0m \u001b[32m━━━━━━━━━━━━━━━━━━━━\u001b[0m\u001b[37m\u001b[0m \u001b[1m4s\u001b[0m 754ms/step - accuracy: 0.4955 - loss: 0.7496 - val_accuracy: 0.6400 - val_loss: 0.6767\n",
            "Epoch 6/15\n",
            "\u001b[1m4/4\u001b[0m \u001b[32m━━━━━━━━━━━━━━━━━━━━\u001b[0m\u001b[37m\u001b[0m \u001b[1m3s\u001b[0m 1s/step - accuracy: 0.4108 - loss: 0.7039 - val_accuracy: 0.3600 - val_loss: 0.7141\n",
            "Epoch 7/15\n",
            "\u001b[1m4/4\u001b[0m \u001b[32m━━━━━━━━━━━━━━━━━━━━\u001b[0m\u001b[37m\u001b[0m \u001b[1m3s\u001b[0m 717ms/step - accuracy: 0.4829 - loss: 0.6922 - val_accuracy: 0.3600 - val_loss: 0.7652\n",
            "Epoch 8/15\n",
            "\u001b[1m4/4\u001b[0m \u001b[32m━━━━━━━━━━━━━━━━━━━━\u001b[0m\u001b[37m\u001b[0m \u001b[1m5s\u001b[0m 743ms/step - accuracy: 0.5168 - loss: 0.7160 - val_accuracy: 0.3600 - val_loss: 0.8456\n",
            "Epoch 9/15\n",
            "\u001b[1m4/4\u001b[0m \u001b[32m━━━━━━━━━━━━━━━━━━━━\u001b[0m\u001b[37m\u001b[0m \u001b[1m3s\u001b[0m 708ms/step - accuracy: 0.4886 - loss: 0.7125 - val_accuracy: 0.3600 - val_loss: 0.7069\n",
            "Epoch 10/15\n",
            "\u001b[1m4/4\u001b[0m \u001b[32m━━━━━━━━━━━━━━━━━━━━\u001b[0m\u001b[37m\u001b[0m \u001b[1m3s\u001b[0m 729ms/step - accuracy: 0.5261 - loss: 0.6693 - val_accuracy: 0.3600 - val_loss: 0.6963\n",
            "Epoch 11/15\n",
            "\u001b[1m4/4\u001b[0m \u001b[32m━━━━━━━━━━━━━━━━━━━━\u001b[0m\u001b[37m\u001b[0m \u001b[1m6s\u001b[0m 1s/step - accuracy: 0.4295 - loss: 0.6885 - val_accuracy: 0.6800 - val_loss: 0.6919\n",
            "Epoch 12/15\n",
            "\u001b[1m4/4\u001b[0m \u001b[32m━━━━━━━━━━━━━━━━━━━━\u001b[0m\u001b[37m\u001b[0m \u001b[1m3s\u001b[0m 705ms/step - accuracy: 0.6175 - loss: 0.6629 - val_accuracy: 0.6800 - val_loss: 0.7076\n",
            "Epoch 13/15\n",
            "\u001b[1m4/4\u001b[0m \u001b[32m━━━━━━━━━━━━━━━━━━━━\u001b[0m\u001b[37m\u001b[0m \u001b[1m3s\u001b[0m 680ms/step - accuracy: 0.6526 - loss: 0.6340 - val_accuracy: 0.6400 - val_loss: 0.6982\n",
            "Epoch 14/15\n",
            "\u001b[1m4/4\u001b[0m \u001b[32m━━━━━━━━━━━━━━━━━━━━\u001b[0m\u001b[37m\u001b[0m \u001b[1m6s\u001b[0m 816ms/step - accuracy: 0.5726 - loss: 0.6593 - val_accuracy: 0.6400 - val_loss: 0.6816\n",
            "Epoch 15/15\n",
            "\u001b[1m4/4\u001b[0m \u001b[32m━━━━━━━━━━━━━━━━━━━━\u001b[0m\u001b[37m\u001b[0m \u001b[1m3s\u001b[0m 1s/step - accuracy: 0.6742 - loss: 0.5931 - val_accuracy: 0.6400 - val_loss: 0.6990\n"
          ]
        },
        {
          "output_type": "stream",
          "name": "stderr",
          "text": [
            "WARNING:absl:You are saving your model as an HDF5 file via `model.save()` or `keras.saving.save_model(model)`. This file format is considered legacy. We recommend using instead the native Keras format, e.g. `model.save('my_model.keras')` or `keras.saving.save_model(model, 'my_model.keras')`. \n"
          ]
        }
      ]
    },
    {
      "cell_type": "code",
      "source": [
        "print(f\"Prediction score: {result}\")"
      ],
      "metadata": {
        "colab": {
          "base_uri": "https://localhost:8080/"
        },
        "id": "YPqSbbwtV-6U",
        "outputId": "ad2e5299-fd3b-4617-d022-797465ef5944"
      },
      "execution_count": null,
      "outputs": [
        {
          "output_type": "stream",
          "name": "stdout",
          "text": [
            "Prediction score: Real\n"
          ]
        }
      ]
    },
    {
      "cell_type": "code",
      "source": [
        "import tensorflow as tf\n",
        "import cv2\n",
        "import numpy as np\n",
        "\n",
        "# Load trained model\n",
        "model = tf.keras.models.load_model(\"deepfake_detection_model.h5\")\n",
        "\n",
        "# Define image size\n",
        "img_size = (128, 128)\n",
        "\n",
        "# Function to classify a new image\n",
        "def classify_image(image_path):\n",
        "    print(f\"Attempting to read: {image_path}\")\n",
        "    img = cv2.imread(image_path)\n",
        "    if img is None:\n",
        "        raise ValueError(f\"Error: Unable to read the image at {image_path}. Check if the file exists and is accessible.\")\n",
        "\n",
        "    img = cv2.resize(img, img_size)\n",
        "    img = np.expand_dims(img, axis=0) / 255.0\n",
        "    prediction = model.predict(img)[0][0]\n",
        "    return \"Fake\" if prediction > 0.5 else \"Real\"\n",
        "\n",
        "# Example usage\n",
        "#image_to_test = \"Dataset/real/real_10.jpg\"\n",
        "image_to_test = \"Dataset/fake/fake_1.jpg\"\n",
        "try:\n",
        "    result = classify_image(image_to_test)\n",
        "    print(f\"The image is classified as: {result}\")\n",
        "except ValueError as e:\n",
        "    print(e)\n"
      ],
      "metadata": {
        "colab": {
          "base_uri": "https://localhost:8080/"
        },
        "id": "E8BelEsdRHyl",
        "outputId": "9152752c-aed9-4347-d5a4-18ef19f4eb3f"
      },
      "execution_count": null,
      "outputs": [
        {
          "output_type": "stream",
          "name": "stderr",
          "text": [
            "WARNING:absl:Compiled the loaded model, but the compiled metrics have yet to be built. `model.compile_metrics` will be empty until you train or evaluate the model.\n"
          ]
        },
        {
          "output_type": "stream",
          "name": "stdout",
          "text": [
            "Attempting to read: Dataset/fake/fake_1.jpg\n",
            "\u001b[1m1/1\u001b[0m \u001b[32m━━━━━━━━━━━━━━━━━━━━\u001b[0m\u001b[37m\u001b[0m \u001b[1m0s\u001b[0m 163ms/step\n",
            "The image is classified as: Fake\n"
          ]
        }
      ]
    }
  ]
}